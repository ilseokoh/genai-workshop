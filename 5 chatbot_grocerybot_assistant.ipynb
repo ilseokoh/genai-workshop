{
 "cells": [
  {
   "cell_type": "code",
   "execution_count": null,
   "metadata": {
    "id": "NUNIZZZ-mUbF"
   },
   "outputs": [],
   "source": [
    "# Copyright 2023 Google LLC\n",
    "#\n",
    "# Licensed under the Apache License, Version 2.0 (the \"License\");\n",
    "# you may not use this file except in compliance with the License.\n",
    "# You may obtain a copy of the License at\n",
    "#\n",
    "#     https://www.apache.org/licenses/LICENSE-2.0\n",
    "#\n",
    "# Unless required by applicable law or agreed to in writing, software\n",
    "# distributed under the License is distributed on an \"AS IS\" BASIS,\n",
    "# WITHOUT WARRANTIES OR CONDITIONS OF ANY KIND, either express or implied.\n",
    "# See the License for the specific language governing permissions and\n",
    "# limitations under the License."
   ]
  },
  {
   "cell_type": "markdown",
   "metadata": {
    "id": "erNS8DBy9LZW"
   },
   "source": [
    "# GroceryBot, a sample grocery and recipe assistant - RAG + ReAct\n",
    "\n",
    "<table align=\"left\">\n",
    "  <td style=\"text-align: center\">\n",
    "    <a href=\"https://colab.research.google.com/github/GoogleCloudPlatform/generative-ai/blob/main/language/use-cases/chatbots/grocerybot_assistant.ipynb\">\n",
    "      <img src=\"https://cloud.google.com/ml-engine/images/colab-logo-32px.png\" alt=\"Google Colaboratory logo\"><br> Run in Colab\n",
    "    </a>\n",
    "  </td>\n",
    "  <td style=\"text-align: center\">\n",
    "    <a href=\"https://github.com/GoogleCloudPlatform/generative-ai/blob/main/language/use-cases/chatbots/grocerybot_assistant.ipynb\">\n",
    "      <img src=\"https://cloud.google.com/ml-engine/images/github-logo-32px.png\" alt=\"GitHub logo\"><br> View on GitHub\n",
    "    </a>\n",
    "  </td>\n",
    "  <td style=\"text-align: center\">\n",
    "    <a href=\"https://console.cloud.google.com/vertex-ai/workbench/deploy-notebook?download_url=https://raw.githubusercontent.com/GoogleCloudPlatform/generative-ai/blob/main/language/use-cases/chatbots/grocerybot_assistant.ipynb\">\n",
    "      <img src=\"https://lh3.googleusercontent.com/UiNooY4LUgW_oTvpsNhPpQzsstV5W8F7rYgxgGBD85cWJoLmrOzhVs_ksK_vgx40SHs7jCqkTkCk=e14-rj-sc0xffffff-h130-w32\" alt=\"Vertex AI logo\"><br> Open in Vertex AI Workbench\n",
    "    </a>\n",
    "  </td>\n",
    "</table>\n"
   ]
  },
  {
   "cell_type": "markdown",
   "metadata": {
    "id": "rjvxwk1bmeq9"
   },
   "source": [
    "## 개요\n",
    "이 노트북은 RAG(검색 증강 생성) 및 ReAct(추론 + 행동)를 사용하여 식료품 쇼핑 여정에서 고객을 지원할 수 있는 대화형 봇을 만드는 방법을 보여줍니다.\n",
    "\n",
    "이 두 가지 접근 방식에 대한 자세한 내용을 알아보려면 관련 논문인 [RAG Arxiv 논문](https://arxiv.org/pdf/2005.11401.pdf) 및 [ReAct Arxiv 논문](https://arxiv. org/abs/2210.03629.pdf)\n",
    "\n",
    "## 시나리오\n",
    "당신이 가장 좋아하는 식료품점인 Cymbal Grocery의 사용자라고 상상해 보십시오. 라자냐처럼 저녁 식사로 좋은 음식을 요리하고 싶지만 어디서부터 시작해야 할지, 어떤 재료를 사야 할지, 라자냐를 요리하는 방법을 모릅니다.\n",
    "\n",
    "웹사이트에 들어가니 Cymbal Grocery가 방금 새로운 대화형 봇인 GroceryBot을 출시한 것을 발견했습니다!\n",
    "\n",
    "GroceryBot은 다음을 통해 쇼핑 여정에 도움을 드립니다.\n",
    "\n",
    "1. 레시피 제안\n",
    "2. 재료 목록 및 요리 지침 얻기\n",
    "3. 해당 레시피에 맞춰 사고 싶은 제품 추천\n",
    "4. 저녁 식사로 사고 싶은 새로운 제품을 찾을 수 있도록 도와드립니다!\n",
    "\n",
    "## 목표 및 요구 사항\n",
    "귀하의 목표는 **GroceryBot**을 개발하는 것입니다!\n",
    "\n",
    "한 가지 주요 요구 사항이 있습니다. 이 봇이 **grounded**되어 있는지 확인해야 합니다. Grounding는 LLM을 데이터베이스와 같은 외부 지식 소스와 연결하는 프로세스를 의미합니다.\n",
    "\n",
    "실제로 이는 GroceryBot이 다음을 활용해야 함을 의미합니다.\n",
    "\n",
    "1. Cymbal Grocery의 기존 레시피 카탈로그입니다. GroceryBot은 이 카탈로그에 포함되지 않은 레시피를 제안해서는 안 됩니다.\n",
    "2. Cymbal Grocery의 기존 제품 카탈로그입니다. GroceryBot은 이 카탈로그에 포함되지 않은 제품을 제안해서는 안 됩니다.\n",
    "3. 레시피에 제안된 미리 계산된 제품 세트입니다.\n",
    "\n",
    "이를 위해 LLM으로 전송되는 프롬프트에 사실 정보(이 경우 레시피 및 제품 정보)를 삽입하여 hallucination 문제를 완화하려고 시도하는 RAG(검색 증강 생성)라는 접근 방식을 사용할 수 있습니다."
   ]
  },
  {
   "cell_type": "markdown",
   "metadata": {
    "id": "m5U3-eP8QWVW"
   },
   "source": [
    "The following image shows what could be possible with GroceryBot if the solution was to be deployed and integrated with a FrontEnd application.\n",
    "\n",
    "![image](https://storage.googleapis.com/github-repo/img/language/reference_architectures/spotbot/spotbot_chat_example.png)\n"
   ]
  },
  {
   "cell_type": "markdown",
   "metadata": {
    "id": "EZYKistCXLk7"
   },
   "source": [
    "### GroceryBot 구현\n",
    "\n",
    "\n",
    "이 시스템은 Vertex AI Generative 모델과 LangChain을 기반으로 합니다. LangChain을 처음 사용하는 경우 [이 노트북](https://github.com/GoogleCloudPlatform/generative-ai/blob/dev/언어/examples/langchain/intro_langchain_palm_api.ipynb)을 통해 익숙해지는 것이 좋습니다.\n",
    "\n",
    "앞서 언급했듯이 모델을 기초로 삼으려면 LLM을 회사 내부 데이터베이스에 연결해야 합니다. 의사 결정을 내리고 언제 할지 결정할 수 있는 [ReAct like](https://ai.googleblog.com/2022/11/react-synergizing-reasoning-and-acting.html) 에이전트를 LangChain에 구현하면 됩니다. 이 데이터베이스를 쿼리해 보세요. LangChain의 에이전트에 대해 더 자세히 알고 싶으시면 [이 페이지](https://python.langchain.com/en/latest/modules/agents.html)를 방문하세요.\n",
    "\n",
    "데모 목적으로 이 노트북은 로컬 데이터베이스만 사용합니다. 다음 설정이 채택됩니다.\n",
    "- 제품 및 레시피 카탈로그는 [Faiss](https://python.langchain.com/en/latest/modules/indexes/Vectorstores/examples/faiss.html)를 사용하여 로컬로 정의됩니다. 몇 가지 예시 이상으로 확장해야 하는 프로덕션 시나리오에서는 [Vertex AI Matching Engine](https://cloud.google.com/vertex-ai/docs/matching-engine/overview) 관리형 벡터를 살펴보는 것이 좋습니다. [ScaNN 유사성 검색](https://ai.googleblog.com/2020/07/announce-scann-efficient-Vector.html)을 활용하는 Vertex AI의 데이터베이스 부분입니다.\n",
    "- 레시피의 세부정보와 해당 레시피에 맞는 구매 추천 제품도 로컬에 저장됩니다. 프로덕션 시나리오에서는 [Cloud Datastore](https://cloud.google.com/datastore)와 같은 NoSQL 데이터베이스를 사용하여 이를 저장할 수 있습니다.\n",
    "\n",
    "에이전트의 다양한 구성 요소와 데이터베이스와의 예상되는 상호 작용을 보여주는 다이어그램을 아래에서 볼 수 있습니다."
   ]
  },
  {
   "cell_type": "markdown",
   "metadata": {
    "id": "GUoTFxB0XN27"
   },
   "source": [
    "![image](https://storage.googleapis.com/github-repo/img/language/reference_architectures/spotbot/spotbot_architecture.png)"
   ]
  },
  {
   "cell_type": "markdown",
   "metadata": {
    "id": "kwplxXrHxBID"
   },
   "source": [
    "### Costs\n",
    "\n",
    "This tutorial uses billable components of Google Cloud:\n",
    "- Vertex AI Generative AI Studio\n",
    "\n",
    "Learn about [Vertex AI pricing](https://cloud.google.com/vertex-ai/pricing), and use the [Pricing Calculator](https://cloud.google.com/products/calculator/) to generate a cost estimate based on your projected usage."
   ]
  },
  {
   "cell_type": "markdown",
   "metadata": {
    "id": "-st5PObCwXrs"
   },
   "source": [
    "# Getting Started"
   ]
  },
  {
   "cell_type": "markdown",
   "metadata": {
    "id": "xjCD2wLB8xgw"
   },
   "source": [
    "### Install libraries"
   ]
  },
  {
   "cell_type": "code",
   "execution_count": null,
   "metadata": {
    "colab": {
     "base_uri": "https://localhost:8080/",
     "height": 1000
    },
    "executionInfo": {
     "elapsed": 15035,
     "status": "ok",
     "timestamp": 1699935997661,
     "user": {
      "displayName": "",
      "userId": ""
     },
     "user_tz": -540
    },
    "id": "ohPUPez8imvE",
    "outputId": "9e5fae65-c90c-4c7c-ee38-6fd8dd9eb110"
   },
   "outputs": [],
   "source": [
    "!pip install --upgrade google-cloud-aiplatform==1.35.0 langchain==0.0.323 faiss-cpu==1.7.4 --user"
   ]
  },
  {
   "cell_type": "markdown",
   "metadata": {
    "id": "erFOnxzUDmlp"
   },
   "source": [
    "***Colab only***: Uncomment the following cell to restart the kernel or use the button to restart the kernel. For Vertex AI Workbench you can restart the terminal using the button on top."
   ]
  },
  {
   "cell_type": "code",
   "execution_count": null,
   "metadata": {
    "id": "loTfn0KniwB2"
   },
   "outputs": [],
   "source": [
    "# # Automatically restart kernel after installs so that your environment can access the new packages\n",
    "# import IPython\n",
    "\n",
    "# app = IPython.Application.instance()\n",
    "# app.kernel.do_shutdown(True)"
   ]
  },
  {
   "cell_type": "markdown",
   "metadata": {
    "id": "Xe7OuYuGkLKF"
   },
   "source": [
    "### Authenticating your notebook environment\n",
    "* If you are using **Colab** to run this notebook, uncomment the cell below and continue.\n",
    "* If you are using **Vertex AI Workbench**, check out the setup instructions [here](https://github.com/GoogleCloudPlatform/generative-ai/tree/main/setup-env)."
   ]
  },
  {
   "cell_type": "code",
   "execution_count": null,
   "metadata": {
    "id": "U9Gx2SAZkLKF"
   },
   "outputs": [],
   "source": [
    "# from google.colab import auth\n",
    "\n",
    "# auth.authenticate_user()"
   ]
  },
  {
   "cell_type": "markdown",
   "metadata": {
    "id": "JxH62gFHCFPj"
   },
   "source": [
    "### Import libraries"
   ]
  },
  {
   "cell_type": "markdown",
   "metadata": {
    "id": "Q1z48EbXTZhc"
   },
   "source": [
    "**Colab only:** Uncomment the following cell to initialize the Vertex AI SDK. For Vertex AI Workbench, you don't need to run this."
   ]
  },
  {
   "cell_type": "code",
   "execution_count": null,
   "metadata": {
    "id": "UM8_uoOR9pGS"
   },
   "outputs": [],
   "source": [
    "# import vertexai\n",
    "\n",
    "# PROJECT_ID = \"[your-project-id]\"  # @param {type:\"string\"}\n",
    "# vertexai.init(project=PROJECT_ID, location=\"us-central1\")"
   ]
  },
  {
   "cell_type": "code",
   "execution_count": null,
   "metadata": {
    "executionInfo": {
     "elapsed": 2715,
     "status": "ok",
     "timestamp": 1699936000372,
     "user": {
      "displayName": "",
      "userId": ""
     },
     "user_tz": -540
    },
    "id": "jHhdpnGMCCuh"
   },
   "outputs": [],
   "source": [
    "import glob\n",
    "import pprint\n",
    "from typing import Any, Iterator, List\n",
    "\n",
    "from langchain.agents import AgentType, initialize_agent\n",
    "from langchain.document_loaders import TextLoader\n",
    "from langchain.embeddings import VertexAIEmbeddings\n",
    "from langchain.llms import VertexAI\n",
    "from langchain.memory import ConversationBufferMemory\n",
    "from langchain.schema import Document\n",
    "from langchain.tools import tool\n",
    "from langchain.vectorstores import FAISS\n",
    "from langchain.vectorstores.base import VectorStoreRetriever\n",
    "from tqdm import tqdm"
   ]
  },
  {
   "cell_type": "markdown",
   "metadata": {
    "id": "YmZ1xwIo9lzU"
   },
   "source": [
    "### Initialize models"
   ]
  },
  {
   "cell_type": "code",
   "execution_count": null,
   "metadata": {
    "executionInfo": {
     "elapsed": 11203,
     "status": "ok",
     "timestamp": 1699936011571,
     "user": {
      "displayName": "",
      "userId": ""
     },
     "user_tz": -540
    },
    "id": "eVpPcvsrkzCk"
   },
   "outputs": [],
   "source": [
    "llm = VertexAI(\n",
    "    model_name=\"text-bison@001\",\n",
    "    max_output_tokens=256,\n",
    "    temperature=0,\n",
    "    top_p=0.8,\n",
    "    top_k=40,\n",
    ")\n",
    "\n",
    "embedding = VertexAIEmbeddings()"
   ]
  },
  {
   "cell_type": "markdown",
   "metadata": {
    "id": "Nx1DhGMexbdx"
   },
   "source": [
    "# Create the Recipe & Product retrievers\n",
    "\n",
    "앞서 언급했듯이 목표는 LLM에 더 많은 컨텍스트를 제공하기 위해 폐쇄 도메인 데이터베이스의 정보를 활용하는 것입니다. 이를 위해 LangChain에서 두 개의 로컬 벡터 데이터베이스와 상호 작용할 수 있는 두 개의 검색기를 생성합니다. 하나는 제품 항목용이고 다른 하나는 레시피 항목용입니다.\n",
    "\n",
    "**일회성 프로세스**로 모든 제품과 레시피 항목이 임베딩으로 변환되어 관련 벡터 데이터베이스로 수집됩니다.\n",
    "\n",
    "**검색 시** 쿼리(예: 라자냐)는 임베딩으로 변환되고, 쿼리에 가장 가까운 항목(예: lasagne al forno, 채식주의자 라자냐)을 찾기 위해 벡터 유사성 검색이 수행됩니다.\n",
    "\n",
    "이 두 데이터베이스를 강화하기 위해 [Vertex AI Generative AI 모델](https://cloud.google.com/vertex-ai/docs/generative-ai/learn/models#)을 사용하여 생성된 더미 레시피 및 제품 세트를 사용합니다. 기초_모델).\n",
    "\n",
    "VectorStore에서 이 데이터를 로드하려면 [LangChain TextLoader](https://api.python.langchain.com/en/latest/document_loaders/langchain.document_loaders.text.TextLoader.html)를 사용하게 됩니다.\n",
    "\n",
    "온라인에 공개된 기존 레시피 및 제품 세트로 이 접근 방식을 테스트하려면 [LangChain WebBaseLoader](https://python.langchain.com/en/latest/modules/indexes/document_loaders/examples)를 사용할 수 있습니다. /web_base.html)."
   ]
  },
  {
   "cell_type": "markdown",
   "metadata": {
    "id": "C-pNxat75XND"
   },
   "source": [
    "First, fetch the dummy data on products and recipes from a public Cloud Storage bucket and store it locally."
   ]
  },
  {
   "cell_type": "code",
   "execution_count": null,
   "metadata": {
    "colab": {
     "base_uri": "https://localhost:8080/"
    },
    "executionInfo": {
     "elapsed": 5328,
     "status": "ok",
     "timestamp": 1699936097012,
     "user": {
      "displayName": "",
      "userId": ""
     },
     "user_tz": -540
    },
    "id": "3yP6GQhgV5Nz",
    "outputId": "edd845a0-edb0-41d2-e4b9-c2e9f4c4f508"
   },
   "outputs": [],
   "source": [
    "!gsutil -m cp -r \"gs://github-repo/use-cases/grocery_bot/*\" ."
   ]
  },
  {
   "cell_type": "markdown",
   "metadata": {
    "id": "WQ8G9k4M5gaM"
   },
   "source": [
    "You then define a set of functions to enable the creation of the two vector databases, one for products, and one for recipes."
   ]
  },
  {
   "cell_type": "code",
   "execution_count": null,
   "metadata": {
    "executionInfo": {
     "elapsed": 364,
     "status": "ok",
     "timestamp": 1699936125124,
     "user": {
      "displayName": "",
      "userId": ""
     },
     "user_tz": -540
    },
    "id": "ezemXH4zxaX-"
   },
   "outputs": [],
   "source": [
    "def chunks(lst: List[Any], n: int) -> Iterator[List[Any]]:\n",
    "    \"\"\"Yield successive n-sized chunks from lst.\n",
    "\n",
    "    Args:\n",
    "        lst: The list to be chunked.\n",
    "        n: The size of each chunk.\n",
    "\n",
    "    Yields:\n",
    "        A list of the next n elements from lst.\n",
    "    \"\"\"\n",
    "\n",
    "    for i in range(0, len(lst), n):\n",
    "        yield lst[i : i + n]\n",
    "\n",
    "\n",
    "def load_docs_from_directory(dir_path: str) -> List[Document]:\n",
    "    \"\"\"Loads a series of docs from a directory.\n",
    "\n",
    "    Args:\n",
    "      dir_path: The path to the directory containing the docs.\n",
    "\n",
    "    Returns:\n",
    "      A list of the docs in the directory.\n",
    "    \"\"\"\n",
    "\n",
    "    docs = []\n",
    "    for file_path in glob.glob(dir_path):\n",
    "        loader = TextLoader(file_path)\n",
    "        docs = docs + loader.load()\n",
    "    return docs\n",
    "\n",
    "\n",
    "def create_retriever(top_k_results: int, dir_path: str) -> VectorStoreRetriever:\n",
    "    \"\"\"Create a recipe retriever from a list of top results and a list of web pages.\n",
    "\n",
    "    Args:\n",
    "        top_k_results: number of results to return when retrieving\n",
    "        dir_path: List of web pages.\n",
    "\n",
    "    Returns:\n",
    "        A recipe retriever.\n",
    "    \"\"\"\n",
    "\n",
    "    BATCH_SIZE_EMBEDDINGS = 5\n",
    "    docs = load_docs_from_directory(dir_path=dir_path)\n",
    "    doc_chunk = chunks(docs, BATCH_SIZE_EMBEDDINGS)\n",
    "    for index, chunk in tqdm(enumerate(doc_chunk)):\n",
    "        if index == 0:\n",
    "            db = FAISS.from_documents(chunk, embedding)\n",
    "        else:\n",
    "            db.add_documents(chunk)\n",
    "\n",
    "    retriever = db.as_retriever(search_kwargs={\"k\": top_k_results})\n",
    "    return retriever"
   ]
  },
  {
   "cell_type": "markdown",
   "metadata": {
    "id": "vsjaRY6Y55yD"
   },
   "source": [
    "이제 이전 단계에서 정의한 함수를 사용하여 벡터 DB를 생성할 준비가 되었습니다.\n",
    "각 Vector DB는 쿼리가 제공되면 해당 쿼리와 일치하는 문서 목록을 제공하는 Python 개체인 검색기 인스턴스를 제공합니다.\n",
    "\n",
    "다음을 생성합니다:\n",
    "- `recipe_retriever`: 쿼리와 일치하는 레시피 세트를 검색합니다.\n",
    "- `product_retriever`: 쿼리와 일치하는 제품 세트를 검색합니다."
   ]
  },
  {
   "cell_type": "code",
   "execution_count": null,
   "metadata": {
    "colab": {
     "base_uri": "https://localhost:8080/"
    },
    "executionInfo": {
     "elapsed": 39360,
     "status": "ok",
     "timestamp": 1699936193655,
     "user": {
      "displayName": "",
      "userId": ""
     },
     "user_tz": -540
    },
    "id": "BYb9WWvCKpxl",
    "outputId": "dbbb5c34-b98c-4f3c-c5b3-577b45361d46"
   },
   "outputs": [],
   "source": [
    "recipe_retriever = create_retriever(top_k_results=2, dir_path=\"./recipes/*\")\n",
    "product_retriever = create_retriever(top_k_results=5, dir_path=\"./products/*\")"
   ]
  },
  {
   "cell_type": "markdown",
   "metadata": {
    "id": "yzPr73OM6uDY"
   },
   "source": [
    "이제 리트리버를 테스트할 준비가 되었습니다! 예를 들어 `recipe_retriever`에 '라자냐 요리법'을 찾으라고 요청하면 쿼리와 일치하는 가장 가까운 요리법 2개가 표시되어야 합니다."
   ]
  },
  {
   "cell_type": "code",
   "execution_count": null,
   "metadata": {
    "colab": {
     "base_uri": "https://localhost:8080/"
    },
    "executionInfo": {
     "elapsed": 1069,
     "status": "ok",
     "timestamp": 1699936669224,
     "user": {
      "displayName": "",
      "userId": ""
     },
     "user_tz": -540
    },
    "id": "GGazDy8d54Hq",
    "outputId": "daeff6c9-808e-4122-e09d-fc687f8e7f95"
   },
   "outputs": [],
   "source": [
    "docs = recipe_retriever.get_relevant_documents(\"Any lasagne recipes?\")\n",
    "pprint.pprint([doc.metadata for doc in docs])"
   ]
  },
  {
   "cell_type": "markdown",
   "metadata": {
    "id": "wJtT98rE8BGG"
   },
   "source": [
    "사용자가 토마토를 쿼리하는 경우 product_retriever와 유사한 동작을 얻게 됩니다."
   ]
  },
  {
   "cell_type": "code",
   "execution_count": null,
   "metadata": {
    "colab": {
     "base_uri": "https://localhost:8080/"
    },
    "executionInfo": {
     "elapsed": 742,
     "status": "ok",
     "timestamp": 1699936709656,
     "user": {
      "displayName": "",
      "userId": ""
     },
     "user_tz": -540
    },
    "id": "CRVqmDHd5Vwb",
    "outputId": "49c65f51-8622-40f5-ae7d-54ec95b9c82f"
   },
   "outputs": [],
   "source": [
    "docs = product_retriever.get_relevant_documents(\"Any Tomatoes?\")\n",
    "pprint.pprint([doc.metadata for doc in docs])"
   ]
  },
  {
   "cell_type": "markdown",
   "metadata": {
    "id": "oBqeF0z28w2b"
   },
   "source": [
    "`recipe_retriever`는 2개의 문서만 반환하는 반면 `product_retriever`는 5개의 문서를 반환하는 방법에 유의하세요. `create_retriever` 함수의 `top_k_results` 매개변수를 변경하여 모든 검색기가 반환하는 문서의 양을 변경할 수 있습니다."
   ]
  },
  {
   "cell_type": "markdown",
   "metadata": {
    "id": "84f6193c"
   },
   "source": [
    "## Agent\n",
    "\n",
    "이제 검색기를 만들었으므로 ReAct와 유사한 접근 방식을 구현할 LangChain 에이전트를 만들 차례입니다.\n",
    "\n",
    "에이전트는 잠재적으로 모든 기능을 수행할 수 있는 Python 함수로 생각할 수 있는 도구 모음에 액세스할 수 있습니다. 에이전트 설정을 독특하게 만드는 것은 사용자 입력에 따라 호출할 도구와 호출 순서를 **자율적으로** 결정하는 기능입니다."
   ]
  },
  {
   "cell_type": "markdown",
   "metadata": {
    "id": "V4IPCkA26CDV"
   },
   "source": [
    "## 1. Agent tools\n",
    "\n",
    "가장 먼저 만들어야 할 것은 에이전트가 사용할 도구입니다. 각 도구는 에이전트가 작업을 수행하는 데 사용되므로 도구의 기능을 잘 설명하는 것이 중요합니다.\n",
    "\n",
    "도구를 생성하는 방법에는 여러 가지가 있습니다. 자세한 내용은 [이 문서](https://python.langchain.com/docs/modules/agents/tools/how_to/custom_tools)를 참조하세요. 이 노트북은 `tool` 데코레이터 접근 방식을 사용합니다.\n",
    "\n",
    "일부 도구에는 데코레이터에 `return_direct=True` 매개변수가 설정되어 있음을 알 수 있습니다. 이렇게 하면 도구의 출력이 LLM에 의해 사후 처리되지 않고 사용자에게 직접 반환됩니다.\n"
   ]
  },
  {
   "cell_type": "markdown",
   "metadata": {
    "id": "qEwhy5WH9Bg_"
   },
   "source": [
    "먼저 이전에 정의한 두 개의 검색기 개체 `recipe_retriever` 및 `product_retriever`를 활용하는 두 개의 도구를 만듭니다."
   ]
  },
  {
   "cell_type": "code",
   "execution_count": null,
   "metadata": {
    "executionInfo": {
     "elapsed": 338,
     "status": "ok",
     "timestamp": 1699936877600,
     "user": {
      "displayName": "",
      "userId": ""
     },
     "user_tz": -540
    },
    "id": "fMsssnT66aNC"
   },
   "outputs": [],
   "source": [
    "@tool(return_direct=True)\n",
    "def retrieve_recipes(query: str) -> str:\n",
    "    \"\"\"\n",
    "    Searches the recipe catalog to find recipes for the query.\n",
    "    Return the output without processing further.\n",
    "    \"\"\"\n",
    "    docs = recipe_retriever.get_relevant_documents(query)\n",
    "\n",
    "    return (\n",
    "        f\"Select the recipe you would like to explore further about {query}: [START CALLBACK FRONTEND] \"\n",
    "        + str([doc.metadata for doc in docs])\n",
    "        + \" [END CALLBACK FRONTEND]\"\n",
    "    )"
   ]
  },
  {
   "cell_type": "code",
   "execution_count": null,
   "metadata": {
    "executionInfo": {
     "elapsed": 340,
     "status": "ok",
     "timestamp": 1699936887163,
     "user": {
      "displayName": "",
      "userId": ""
     },
     "user_tz": -540
    },
    "id": "L5mo3KEj2j9Y"
   },
   "outputs": [],
   "source": [
    "@tool(return_direct=True)\n",
    "def retrieve_products(query: str) -> str:\n",
    "    \"\"\"Searches the product catalog to find products for the query.\n",
    "    Use it when the user asks for the products available for a specific item. For example `Can you show me which onions I can buy?`\n",
    "    \"\"\"\n",
    "    docs = product_retriever.get_relevant_documents(query)\n",
    "    return (\n",
    "        f\"I found these products about {query}:  [START CALLBACK FRONTEND] \"\n",
    "        + str([doc.metadata for doc in docs])\n",
    "        + \" [END CALLBACK FRONTEND]\"\n",
    "    )"
   ]
  },
  {
   "cell_type": "markdown",
   "metadata": {
    "id": "c9LplS-w9haF"
   },
   "source": [
    "레시피를 선택하는 사용자의 작업을 캡처하기 위해 에이전트가 사용하는 도구인 `recipe_selector`를 정의합니다. 레시피의 경로는 해당 레시피의 식별자로 사용됩니다."
   ]
  },
  {
   "cell_type": "code",
   "execution_count": null,
   "metadata": {
    "executionInfo": {
     "elapsed": 332,
     "status": "ok",
     "timestamp": 1699937016680,
     "user": {
      "displayName": "",
      "userId": ""
     },
     "user_tz": -540
    },
    "id": "ok1ryRoL_9WL"
   },
   "outputs": [],
   "source": [
    "@tool\n",
    "def recipe_selector(path: str) -> str:\n",
    "    \"\"\"\n",
    "    Use this when the user selects a recipe.\n",
    "    You will need to respond to the user telling what are the options once a recipe is selected.\n",
    "    You can explain what are the ingredients of the recipe, show you the cooking instructions or suggest you which products to buy from the catalog!\n",
    "    \"\"\"\n",
    "    return \"Great choice! I can explain what are the ingredients of the recipe, show you the cooking instructions or suggest you which products to buy from the catalog!\""
   ]
  },
  {
   "cell_type": "markdown",
   "metadata": {
    "id": "nhA4epiL9x00"
   },
   "source": [
    "네 번째 도구를 사용하면 에이전트는 레시피 경로를 통해 레시피의 세부정보를 찾을 수 있습니다. 주어진 레시피에 대한 재료와 지침을 관찰하여 반환합니다. 그런 다음 에이전트는 이 정보를 사용하여 사용자의 특정 쿼리에 응답합니다."
   ]
  },
  {
   "cell_type": "code",
   "execution_count": null,
   "metadata": {
    "executionInfo": {
     "elapsed": 340,
     "status": "ok",
     "timestamp": 1699937031479,
     "user": {
      "displayName": "",
      "userId": ""
     },
     "user_tz": -540
    },
    "id": "BHjVjzo49T11"
   },
   "outputs": [],
   "source": [
    "docs = load_docs_from_directory(\"./recipes/*\")\n",
    "recipes_detail = {doc.metadata[\"source\"]: doc.page_content for doc in docs}\n",
    "\n",
    "\n",
    "@tool\n",
    "def get_recipe_detail(path: str) -> str:\n",
    "    \"\"\"\n",
    "    Use it to find more information for a specific recipe, such as the ingredients or the cooking steps.\n",
    "    Use this to find what are the ingredients for a recipe or the cooking steps.\n",
    "\n",
    "    Example output:\n",
    "    Ingredients:\n",
    "\n",
    "    * 1 pound lasagna noodles\n",
    "    * 1 pound ground beef\n",
    "    * 1/2 cup chopped onion\n",
    "    * 2 cloves garlic, minced\n",
    "    * 2 (28 ounce) cans crushed tomatoes\n",
    "    * 1 (15 ounce) can tomato sauce\n",
    "    * 1 teaspoon dried oregano\n",
    "\n",
    "    Would you like me to show you the suggested products from the catalogue?\n",
    "    \"\"\"\n",
    "    try:\n",
    "        return recipes_detail[path]\n",
    "    except KeyError:\n",
    "        return \"Could not find the details for this recipe\""
   ]
  },
  {
   "cell_type": "markdown",
   "metadata": {
    "id": "A-6mlDAT-bPZ"
   },
   "source": [
    "마지막으로 에이전트가 특정 레시피에 가장 적합한 제품을 찾을 수 있는 도구를 정의합니다. 데모 목적으로 이 정보는 사전에 하드코드되어 있습니다."
   ]
  },
  {
   "cell_type": "code",
   "execution_count": null,
   "metadata": {
    "executionInfo": {
     "elapsed": 3,
     "status": "ok",
     "timestamp": 1699937111705,
     "user": {
      "displayName": "",
      "userId": ""
     },
     "user_tz": -540
    },
    "id": "uqQ0FqtwyCai"
   },
   "outputs": [],
   "source": [
    "@tool(return_direct=True)\n",
    "def get_suggested_products_for_recipe(recipe_path: str) -> str:\n",
    "    \"\"\"Use this only if the user would like to buy certain products connected to a specific recipe example 'Can you give me the products I can buy for the lasagne?'\",\n",
    "\n",
    "    Args:\n",
    "        recipe_path: The recipe path.\n",
    "\n",
    "    Returns:\n",
    "        A list of products the user might want to buy.\n",
    "    \"\"\"\n",
    "    recipe_to_product_mapping = {\n",
    "        \"./recipes/lasagne.txt\": [\n",
    "            \"./products/angus_beef_lean_mince.txt\",\n",
    "            \"./products/large_onions.txt\",\n",
    "            \"./products/classic_carrots.txt\",\n",
    "            \"./products/classic_tomatoes.txt\",\n",
    "        ]\n",
    "    }\n",
    "\n",
    "    return (\n",
    "        \"These are some suggested ingredients for your recipe [START CALLBACK FRONTEND] \"\n",
    "        + str(recipe_to_product_mapping[recipe_path])\n",
    "        + \" [END CALLBACK FRONTEND]\"\n",
    "    )"
   ]
  },
  {
   "cell_type": "markdown",
   "metadata": {
    "id": "ujl9NCfROjOv"
   },
   "source": [
    "## Creating the agent\n",
    "\n",
    "이제 도구를 정의했으므로 에이전트를 생성할 준비가 되었습니다. 대화를 할 수 있도록 상담원에게 추억을 제공합니다.\n",
    "\n",
    "에이전트는 'CONVERSATIONAL_REACT_DESCRIPTION' 유형으로 초기화됩니다. 이에 대해 자세히 알아보려면 [상대 문서](https://python.langchain.com/docs/modules/agents/agent_types/chat_conversation_agent) 및 [기타 에이전트 유형](https://python.langchain)을 살펴보세요. .com/docs/modules/agents/agent_types/)."
   ]
  },
  {
   "cell_type": "code",
   "execution_count": null,
   "metadata": {
    "executionInfo": {
     "elapsed": 344,
     "status": "ok",
     "timestamp": 1699937131356,
     "user": {
      "displayName": "",
      "userId": ""
     },
     "user_tz": -540
    },
    "id": "GFM6pMPX3bax"
   },
   "outputs": [],
   "source": [
    "memory = ConversationBufferMemory(memory_key=\"chat_history\")\n",
    "memory.clear()\n",
    "\n",
    "tools = [\n",
    "    retrieve_recipes,\n",
    "    retrieve_products,\n",
    "    get_recipe_detail,\n",
    "    get_suggested_products_for_recipe,\n",
    "    recipe_selector,\n",
    "]\n",
    "agent = initialize_agent(\n",
    "    tools,\n",
    "    llm,\n",
    "    agent=AgentType.CONVERSATIONAL_REACT_DESCRIPTION,\n",
    "    memory=memory,\n",
    "    verbose=True,\n",
    ")"
   ]
  },
  {
   "cell_type": "markdown",
   "metadata": {
    "id": "xzAMcJe4YG0F"
   },
   "source": [
    "### Let's cook lasagne!"
   ]
  },
  {
   "cell_type": "code",
   "execution_count": null,
   "metadata": {
    "colab": {
     "base_uri": "https://localhost:8080/",
     "height": 246
    },
    "executionInfo": {
     "elapsed": 4446,
     "status": "ok",
     "timestamp": 1699937141236,
     "user": {
      "displayName": "",
      "userId": ""
     },
     "user_tz": -540
    },
    "id": "2Sv2Oi6XF84-",
    "outputId": "8f3e5b29-976b-4479-f8d5-12d4dd278cdb"
   },
   "outputs": [],
   "source": [
    "agent.run(\"I would like to cook some lasagne. What are the recipes available?\")"
   ]
  },
  {
   "cell_type": "code",
   "execution_count": null,
   "metadata": {
    "colab": {
     "base_uri": "https://localhost:8080/",
     "height": 246
    },
    "executionInfo": {
     "elapsed": 3344,
     "status": "ok",
     "timestamp": 1699937166936,
     "user": {
      "displayName": "",
      "userId": ""
     },
     "user_tz": -540
    },
    "id": "VM5Am75a9dZE",
    "outputId": "5ae8c7df-9b94-4cee-97dc-e1db58220394"
   },
   "outputs": [],
   "source": [
    "agent.run(\"Selecting ./recipes/lasagne.txt\")"
   ]
  },
  {
   "cell_type": "code",
   "execution_count": null,
   "metadata": {
    "colab": {
     "base_uri": "https://localhost:8080/",
     "height": 871
    },
    "executionInfo": {
     "elapsed": 2933,
     "status": "ok",
     "timestamp": 1699937178187,
     "user": {
      "displayName": "",
      "userId": ""
     },
     "user_tz": -540
    },
    "id": "-mabBRUecFX8",
    "outputId": "4108cbd5-fd2e-4854-bc0d-1476d1f928d3"
   },
   "outputs": [],
   "source": [
    "agent.run(\"Yes, can you give me the ingredients for that recipe?\")"
   ]
  },
  {
   "cell_type": "code",
   "execution_count": null,
   "metadata": {
    "colab": {
     "base_uri": "https://localhost:8080/",
     "height": 437
    },
    "executionInfo": {
     "elapsed": 2565,
     "status": "ok",
     "timestamp": 1699937831577,
     "user": {
      "displayName": "",
      "userId": ""
     },
     "user_tz": -540
    },
    "id": "zUEIt7cdYBVg",
    "outputId": "2dac8007-cdbb-40ff-f884-dec203c54935"
   },
   "outputs": [],
   "source": [
    "agent.run(\"Can you give me the cooking instructions for that recipe?\")"
   ]
  },
  {
   "cell_type": "code",
   "execution_count": null,
   "metadata": {
    "colab": {
     "base_uri": "https://localhost:8080/",
     "height": 264
    },
    "executionInfo": {
     "elapsed": 2950,
     "status": "ok",
     "timestamp": 1699937854302,
     "user": {
      "displayName": "",
      "userId": ""
     },
     "user_tz": -540
    },
    "id": "CiTI-p5j9hMM",
    "outputId": "cd77792b-c67f-4d01-e964-a76fc55ddc42"
   },
   "outputs": [],
   "source": [
    "agent.run(\"Can you give me the products I can buy for this recipe?\")"
   ]
  },
  {
   "cell_type": "code",
   "execution_count": null,
   "metadata": {
    "colab": {
     "base_uri": "https://localhost:8080/",
     "height": 281
    },
    "executionInfo": {
     "elapsed": 2468,
     "status": "ok",
     "timestamp": 1699937878416,
     "user": {
      "displayName": "",
      "userId": ""
     },
     "user_tz": -540
    },
    "id": "vNeSnB-3UedW",
    "outputId": "4115b294-0033-4369-d7c0-972a396c9a99"
   },
   "outputs": [],
   "source": [
    "agent.run(\"Can you show me other tomatoes you have available?\")"
   ]
  },
  {
   "cell_type": "code",
   "execution_count": null,
   "metadata": {
    "colab": {
     "base_uri": "https://localhost:8080/",
     "height": 281
    },
    "executionInfo": {
     "elapsed": 2925,
     "status": "ok",
     "timestamp": 1699937904985,
     "user": {
      "displayName": "",
      "userId": ""
     },
     "user_tz": -540
    },
    "id": "KWPxsrOlgVt5",
    "outputId": "3e2f64a6-495c-4537-fd79-8522928a3ef0"
   },
   "outputs": [],
   "source": [
    "agent.run(\"Nice, how about carrots?\")"
   ]
  },
  {
   "cell_type": "code",
   "execution_count": null,
   "metadata": {
    "colab": {
     "base_uri": "https://localhost:8080/",
     "height": 140
    },
    "executionInfo": {
     "elapsed": 684,
     "status": "ok",
     "timestamp": 1699937907900,
     "user": {
      "displayName": "",
      "userId": ""
     },
     "user_tz": -540
    },
    "id": "bPW-2FCkCDqB",
    "outputId": "a0cba501-73c5-494b-85b6-34c00958fec3"
   },
   "outputs": [],
   "source": [
    "agent.run(\"Thank you, that's everything!\")"
   ]
  },
  {
   "cell_type": "markdown",
   "metadata": {
    "id": "8Pf8pqtGc6wB"
   },
   "source": [
    "## Setting guardrails in the agent - Custom agent\n",
    "\n",
    "드디어 첫 번째 식료품 도우미를 만들었습니다! 🎉 그런데 사용자가 경쟁사에 대해 묻는다면 어떨까요? 아니면 사용자가 에이전트를 사용하여 일반적인 Q&A와 같이 허용되지 않는 작업을 수행하는 경우에는 어떻게 되나요?\n",
    "\n",
    "기업 환경에서는 대화를 차단하거나 보호하고 싶을 수도 있습니다.\n",
    "\n",
    "일부 가드레일을 설정하는 가장 쉬운 방법은 에이전트 프롬프트에 사용자 지정 접두사를 제공하는 것입니다.\n",
    "\n",
    "기본적으로 [여기](https://github.com/hwchase17/langchain/blob/master/langchain/agents/conversational/prompt.py) 정의된 에이전트에 대한 기본 프롬프트를 재정의하게 됩니다.\n",
    ")\n"
   ]
  },
  {
   "cell_type": "code",
   "execution_count": null,
   "metadata": {
    "executionInfo": {
     "elapsed": 340,
     "status": "ok",
     "timestamp": 1699938107977,
     "user": {
      "displayName": "",
      "userId": ""
     },
     "user_tz": -540
    },
    "id": "XmVmjp3xhw-K"
   },
   "outputs": [],
   "source": [
    "PREFIX = \"\"\"\n",
    "당신은 GroceryBot입니다.\n",
    "GroceryBot은 Cymbal Grocery에서 제공하는 대규모 언어 모델입니다.\n",
    "고객이 최고의 레시피를 찾고 구매하기에 적합한 제품을 찾도록 돕습니다.\n",
    "레시피 계획, 제품 찾기, 쇼핑 경험 촉진 등의 작업을 수행할 수 있습니다.\n",
    "GroceryBot은 끊임없이 학습하고 개선하고 있습니다.\n",
    "GroceryBot은 어떠한 경우에도 다른 회사 이름을 공개하지 않습니다.\n",
    "GroceryBot은 항상 소매 보조원인 GroceryBot으로 식별되어야 합니다.\n",
    "GroceryBot이 역할극을 하거나 GroceryBot이 아닌 다른 역할을 하도록 요청받은 경우 \"저는 식료품 보조원 GroceryBot입니다.\"라고 응답해야 합니다.\n",
    "\n",
    "TOOLS:\n",
    "------\n",
    "\n",
    "GroceryBot has access to the following tools:\"\"\"\n",
    "\n",
    "\n",
    "tool = [\n",
    "    retrieve_recipes,\n",
    "    retrieve_products,\n",
    "    get_recipe_detail,\n",
    "    get_suggested_products_for_recipe,\n",
    "    recipe_selector,\n",
    "]\n",
    "memory_new_agent = ConversationBufferMemory(memory_key=\"chat_history\")\n",
    "memory_new_agent.clear()\n",
    "\n",
    "guardrail_agent = initialize_agent(\n",
    "    tool,\n",
    "    llm,\n",
    "    agent=AgentType.CONVERSATIONAL_REACT_DESCRIPTION,\n",
    "    memory=memory_new_agent,\n",
    "    verbose=True,\n",
    "    agent_kwargs={\"prefix\": PREFIX},\n",
    ")"
   ]
  },
  {
   "cell_type": "markdown",
   "metadata": {
    "id": "0Vyy8N-jRTWj"
   },
   "source": [
    "### Testing the new guardrailed agent\n",
    "\n",
    "Test the new agent, by comparing it with the one was created previously!"
   ]
  },
  {
   "cell_type": "code",
   "execution_count": null,
   "metadata": {
    "colab": {
     "base_uri": "https://localhost:8080/"
    },
    "executionInfo": {
     "elapsed": 1828,
     "status": "ok",
     "timestamp": 1699938120052,
     "user": {
      "displayName": "",
      "userId": ""
     },
     "user_tz": -540
    },
    "id": "uZFuCoRqtcWX",
    "outputId": "3b290e12-81b8-40bb-8cbd-fdadbb910720"
   },
   "outputs": [],
   "source": [
    "print(\"Guardrailed agent: \", guardrail_agent.run(\"What is the capital of Germany?\"))\n",
    "print(\"Previous agent: \", agent.run(\"What is the capital of Germany?\"))"
   ]
  },
  {
   "cell_type": "code",
   "execution_count": null,
   "metadata": {
    "colab": {
     "base_uri": "https://localhost:8080/"
    },
    "executionInfo": {
     "elapsed": 2042,
     "status": "ok",
     "timestamp": 1699938142532,
     "user": {
      "displayName": "",
      "userId": ""
     },
     "user_tz": -540
    },
    "id": "-zR8whM0stMq",
    "outputId": "e5fb7044-f1de-40cd-9f3e-ceaad5a49bb0"
   },
   "outputs": [],
   "source": [
    "print(\n",
    "    \"Guardrailed agent: \",\n",
    "    guardrail_agent.run(\"What are some competitors of Cymbal Grocery?\"),\n",
    ")\n",
    "print(\"Previous agent: \", agent.run(\"What are some competitors of Cymbal Grocery?\"))"
   ]
  },
  {
   "cell_type": "code",
   "execution_count": null,
   "metadata": {
    "colab": {
     "base_uri": "https://localhost:8080/"
    },
    "executionInfo": {
     "elapsed": 3526,
     "status": "ok",
     "timestamp": 1699938150220,
     "user": {
      "displayName": "",
      "userId": ""
     },
     "user_tz": -540
    },
    "id": "Z1EOCaNQsgMH",
    "outputId": "668b609c-da88-4240-c0d1-8cdb8130c5bf"
   },
   "outputs": [],
   "source": [
    "print(\"Guardrailed agent: \", guardrail_agent.run(\"Give me a recipe for lasagne\"))\n",
    "print(\"Previous agent: \", agent.run(\"Give me a recipe for lasagne\"))"
   ]
  },
  {
   "cell_type": "markdown",
   "metadata": {
    "id": "KrzECKWIZIUI"
   },
   "source": [
    "보시다시피 새로운 가드레일 에이전트는 사용자가 일반적인 Q&A 질문을 하는 것을 방지할 수 있었습니다. 하지만 두 에이전트 모두 쇼핑 여정에 관해 사용자를 지원할 수 있습니다."
   ]
  },
  {
   "cell_type": "markdown",
   "metadata": {
    "id": "o0tpjX3BZVsP"
   },
   "source": [
    "# Conclusion\n",
    "이 노트북은 Vertex AI Generative AI 모델과 LangChain을 사용하여 식료품 보조 봇을 만드는 방법을 보여줍니다.\n",
    "\n",
    "이 노트북에서는 다음 방법을 배웠습니다.\n",
    "- RAG를 활용하여 LLM을 기반으로 환각을 피하는 방법\n",
    "- 벡터 데이터베이스 생성 및 쿼리\n",
    "- LangChain 도구 만들기\n",
    "- 정보 제공 및 거래 지원이 가능한 LangChain Agent를 생성합니다.\n",
    "- 기업 환경에 대비할 수 있도록 에이전트를 보호합니다."
   ]
  },
  {
   "cell_type": "code",
   "execution_count": null,
   "metadata": {
    "id": "9sKSubWTNl70"
   },
   "outputs": [],
   "source": []
  }
 ],
 "metadata": {
  "colab": {
   "name": "grocerybot_assistant.ipynb",
   "provenance": [],
   "toc_visible": true
  },
  "environment": {
   "kernel": "python3",
   "name": "tf2-gpu.2-11.m108",
   "type": "gcloud",
   "uri": "gcr.io/deeplearning-platform-release/tf2-gpu.2-11:m108"
  },
  "kernelspec": {
   "display_name": "Python 3 (ipykernel)",
   "language": "python",
   "name": "python3"
  },
  "language_info": {
   "codemirror_mode": {
    "name": "ipython",
    "version": 3
   },
   "file_extension": ".py",
   "mimetype": "text/x-python",
   "name": "python",
   "nbconvert_exporter": "python",
   "pygments_lexer": "ipython3",
   "version": "3.10.10"
  }
 },
 "nbformat": 4,
 "nbformat_minor": 0
}
